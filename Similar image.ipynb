{
 "cells": [
  {
   "cell_type": "code",
   "execution_count": 1,
   "id": "1f0dea05",
   "metadata": {},
   "outputs": [
    {
     "data": {
      "text/html": [
       "<script>\n",
       "code_show=true; \n",
       "function code_toggle() {\n",
       " if (code_show){\n",
       "     $('div.input').hide();\n",
       "     $('div.cell').css({'padding': \"0px\"})\n",
       " } else {\n",
       "     $('div.input').show();\n",
       "     $('div.cell').css({'padding': \"5px\"})\n",
       " }\n",
       " code_show = !code_show\n",
       "} \n",
       "$( document ).ready(code_toggle);\n",
       "</script>\n",
       "<form action=\"javascript:code_toggle()\"><input type=\"submit\" value=\"Click here to toggle on/off the raw code.\"></form>"
      ],
      "text/plain": [
       "<IPython.core.display.HTML object>"
      ]
     },
     "execution_count": 1,
     "metadata": {},
     "output_type": "execute_result"
    }
   ],
   "source": [
    "from IPython.display import HTML\n",
    "HTML('''<script>\n",
    "code_show=true; \n",
    "function code_toggle() {\n",
    " if (code_show){\n",
    "     $('div.input').hide();\n",
    "     $('div.cell').css({'padding': \"0px\"})\n",
    " } else {\n",
    "     $('div.input').show();\n",
    "     $('div.cell').css({'padding': \"5px\"})\n",
    " }\n",
    " code_show = !code_show\n",
    "} \n",
    "$( document ).ready(code_toggle);\n",
    "</script>\n",
    "<form action=\"javascript:code_toggle()\"><input type=\"submit\" value=\"Click here to toggle on/off the raw code.\"></form>''')"
   ]
  },
  {
   "cell_type": "code",
   "execution_count": 2,
   "id": "214f3a0d",
   "metadata": {},
   "outputs": [],
   "source": [
    "import os\n",
    "import random\n",
    "from io import BytesIO\n",
    "import urllib\n",
    "import logging\n",
    "\n",
    "import functools\n",
    "\n",
    "########\n",
    "import extract_image_vectors\n",
    "\n",
    "import tensorflow as tf\n",
    "\n",
    "from tensorflow.keras.preprocessing import image\n",
    "from tensorflow.keras.applications.vgg16 import preprocess_input\n",
    "import numpy as np\n",
    "import faiss\n",
    "from IPython.display import Image\n",
    "from ipywidgets import widgets\n",
    "from IPython.display import clear_output\n",
    "# Clear tensorflow warnings.\n",
    "# Note, no solutions from the following work here:\n",
    "# https://stackoverflow.com/questions/35911252/disable-tensorflow-debugging-information\n",
    "clear_output()"
   ]
  },
  {
   "cell_type": "code",
   "execution_count": 3,
   "id": "bf4f495b",
   "metadata": {},
   "outputs": [],
   "source": [
    "model = extract_image_vectors.init_model()\n",
    "# Clear tensorflow warnings.\n",
    "clear_output()"
   ]
  },
  {
   "cell_type": "code",
   "execution_count": 4,
   "id": "c0f4eec3",
   "metadata": {},
   "outputs": [],
   "source": [
    "def is_filename_url(filename):\n",
    "    \"\"\"\n",
    "    Test if the string is url\n",
    "    \n",
    "    Args:\n",
    "        filename: input string\n",
    "    Returns:\n",
    "        True if the input is url, False otherwise\n",
    "    \"\"\"\n",
    "    # Hack for urls\n",
    "    return filename.startswith('http')"
   ]
  },
  {
   "cell_type": "code",
   "execution_count": 5,
   "id": "9c72aede",
   "metadata": {},
   "outputs": [],
   "source": [
    "def predict_single_image(model, filename):\n",
    "    \"\"\"\n",
    "    Compute feature vector for a single image\n",
    "    \n",
    "    Args:\n",
    "        model: Keras model for prediction\n",
    "        filename: filename of the input image\n",
    "    Returns:\n",
    "        numpy array with features, 4096 for VGG model\n",
    "    \"\"\"\n",
    "    target_size = (224, 224)\n",
    "    #Simple hack for urls\n",
    "    if is_filename_url(filename):\n",
    "        with urllib.request.urlopen(filename) as url:\n",
    "            img = image.load_img(BytesIO(url.read()), target_size=target_size)\n",
    "    else:\n",
    "        img = image.load_img(filename, target_size=target_size)\n",
    "    x = image.img_to_array(img)\n",
    "    x = np.expand_dims(x, axis=0)\n",
    "    x = preprocess_input(x)\n",
    "\n",
    "    features = model.predict(x, verbose=0)\n",
    "    return features"
   ]
  },
  {
   "cell_type": "code",
   "execution_count": 6,
   "id": "e5b49f21",
   "metadata": {},
   "outputs": [],
   "source": [
    "def read_filename_list(filename):\n",
    "    \"\"\"\n",
    "    Read filenames from the text file into a list\n",
    "    \n",
    "    Args:\n",
    "        filename: file containing filenames\n",
    "    Returns:\n",
    "        list with filenames from the input file\n",
    "    \"\"\"\n",
    "    res = []\n",
    "    with open(filename, 'r') as f:\n",
    "        for line in f:\n",
    "            res.append(line.strip('\\n'))\n",
    "    return res"
   ]
  },
  {
   "cell_type": "code",
   "execution_count": null,
   "id": "47375585",
   "metadata": {},
   "outputs": [],
   "source": []
  },
  {
   "cell_type": "code",
   "execution_count": 7,
   "id": "221e5797",
   "metadata": {},
   "outputs": [],
   "source": [
    "fl = 'ms_coco_file_list.txt'\n",
    "filename_list = read_filename_list(fl)"
   ]
  },
  {
   "cell_type": "code",
   "execution_count": 8,
   "id": "2684c2a4",
   "metadata": {},
   "outputs": [],
   "source": [
    "pred_file = fl+'.saved_predictions.npy'\n",
    "predictions = np.load(pred_file)"
   ]
  },
  {
   "cell_type": "code",
   "execution_count": 9,
   "id": "d490071f",
   "metadata": {},
   "outputs": [],
   "source": [
    "index_filename = 'ms_coco_file_list.faiss.index'\n",
    "index = faiss.read_index(index_filename)\n",
    "\n",
    "# Flat index for testing\n",
    "#dim = 4096\n",
    "#index = faiss.IndexFlatIP(dim)\n",
    "#index.add(predictions)"
   ]
  },
  {
   "cell_type": "code",
   "execution_count": 10,
   "id": "094be82b",
   "metadata": {},
   "outputs": [],
   "source": [
    "def search_and_display_similar_images(w_output, output_button_eh, k = 8, filename = None, pred_idx = 0):\n",
    "    \"\"\"\n",
    "    Search input image from a file or an url in the datbase,\n",
    "    displays the results\n",
    "    \n",
    "    Args:\n",
    "        w_output:         widgets.Output() for displaing the results\n",
    "        output_button_eh: event handler (function) for search buttons under each image result\n",
    "        k:                number of similar images returned from the database\n",
    "        filename:         input filename, local file or url. If empty, pred_idx is used\n",
    "        pred_idx:         index of file from the database used as an input.\n",
    "    Returns:\n",
    "        Nothing\n",
    "    \"\"\"\n",
    "    images_dir = 'ms_coco/val2014'\n",
    "    if filename:\n",
    "        query_filename = filename\n",
    "    else:\n",
    "        query_filename = os.path.join(images_dir, filename_list[pred_idx])\n",
    "\n",
    "    # Search similar images\n",
    "    query = predict_single_image(model, query_filename)\n",
    "    faiss.normalize_L2(query)\n",
    "    sims, ids = index.search(query, k)\n",
    "\n",
    "    # Display input image\n",
    "    output_image_width = 200\n",
    "    with w_output:\n",
    "        display(\"Input:\")\n",
    "        if is_filename_url(query_filename):\n",
    "            display(Image(url=query_filename, width=output_image_width))\n",
    "        else:\n",
    "            display('Image id: %d' % pred_idx)\n",
    "            display(Image(filename=query_filename, width=output_image_width))\n",
    "\n",
    "    # Display output images\n",
    "    i_list = []\n",
    "    res_list = []\n",
    "    images_in_row = 4\n",
    "    layout = widgets.Layout(width='auto')\n",
    "    for i, id_i in enumerate(ids[0]):\n",
    "        im = widgets.Image(value=open(os.path.join(images_dir, filename_list[id_i]), 'rb').read(),\n",
    "                              width=output_image_width)\n",
    "        im_button = widgets.Button(description='Search', layout=layout)\n",
    "        im_button.on_click(functools.partial(output_btn_eh, id_i))\n",
    "        i_list.append(\n",
    "            widgets.VBox([\n",
    "                widgets.Label(value=filename_list[id_i]),\n",
    "                im,\n",
    "                widgets.HBox([\n",
    "                    widgets.Label(value='distance: %.2f' % sims[0][i]),\n",
    "                    im_button\n",
    "                ])\n",
    "            ])\n",
    "        )\n",
    "        if len(i_list) % images_in_row == 0:\n",
    "            res_list.append(widgets.HBox(i_list))\n",
    "            i_list = []\n",
    "    if i_list:\n",
    "        res_list.append(widgets.HBox(i_list))\n",
    "    with w_output:\n",
    "        display(\"Output:\")\n",
    "        display(widgets.VBox(res_list))"
   ]
  },
  {
   "cell_type": "code",
   "execution_count": 11,
   "id": "65ec048a",
   "metadata": {
    "scrolled": false
   },
   "outputs": [
    {
     "data": {
      "application/vnd.jupyter.widget-view+json": {
       "model_id": "49cd9f9524c74e2eb5ab7744d46487ea",
       "version_major": 2,
       "version_minor": 0
      },
      "text/plain": [
       "HBox(children=(Button(description='Query random image', style=ButtonStyle()), Label(value='or enter an url:'),…"
      ]
     },
     "metadata": {},
     "output_type": "display_data"
    }
   ],
   "source": [
    "output_images = widgets.Output()\n",
    "btn = widgets.Button(description='Query random image')\n",
    "url = 'https://www.visitczechrepublic.com/cms/getmedia/1be239a4-2f42-4b57-88ff-c6ccc1c938a5/shutterstock_1161049588_Brno.jpg?width=768'\n",
    "url_box = widgets.Text(value=url, placeholder='Insert image url, press enter')\n",
    "url_btn = widgets.Button(description='Search')\n",
    "\n",
    "# Callback function for \"Search\" button under the result\n",
    "def output_btn_eh(index, obj):\n",
    "    output_images.clear_output()\n",
    "    search_and_display_similar_images(output_images, output_btn_eh, pred_idx = index)\n",
    "\n",
    "# Callback function for \"Query random image\" button\n",
    "def btn_eh(obj):\n",
    "    output_images.clear_output()\n",
    "    search_and_display_similar_images(output_images, output_btn_eh, pred_idx = random.randrange(len(filename_list)))\n",
    "\n",
    "# Callback function for input box with url -- activated on enter key\n",
    "def url_box_eh(obj):\n",
    "    output_images.clear_output()\n",
    "    search_and_display_similar_images(output_images, output_btn_eh, filename=obj.value)\n",
    "\n",
    "# Callback function for \"Search\" url button\n",
    "def url_btn_eh(eh):\n",
    "    output_images.clear_output()\n",
    "    search_and_display_similar_images(output_images, output_btn_eh, filename=url_box.value)\n",
    "\n",
    "\n",
    "btn.on_click(btn_eh)\n",
    "url_box.on_submit(url_box_eh)\n",
    "url_btn.on_click(url_btn_eh)\n",
    "display(widgets.HBox([btn, widgets.Label(value='or enter an url:'), url_box, url_btn]))"
   ]
  },
  {
   "cell_type": "code",
   "execution_count": 12,
   "id": "7a4134b2",
   "metadata": {},
   "outputs": [
    {
     "data": {
      "application/vnd.jupyter.widget-view+json": {
       "model_id": "1e7d43f64e334b3785842f3f01983398",
       "version_major": 2,
       "version_minor": 0
      },
      "text/plain": [
       "Output()"
      ]
     },
     "metadata": {},
     "output_type": "display_data"
    }
   ],
   "source": [
    "display(output_images)"
   ]
  },
  {
   "cell_type": "code",
   "execution_count": null,
   "id": "4547f4ab",
   "metadata": {},
   "outputs": [],
   "source": []
  }
 ],
 "metadata": {
  "kernelspec": {
   "display_name": "Python 3 (ipykernel)",
   "language": "python",
   "name": "python3"
  },
  "language_info": {
   "codemirror_mode": {
    "name": "ipython",
    "version": 3
   },
   "file_extension": ".py",
   "mimetype": "text/x-python",
   "name": "python",
   "nbconvert_exporter": "python",
   "pygments_lexer": "ipython3",
   "version": "3.10.4"
  }
 },
 "nbformat": 4,
 "nbformat_minor": 5
}
