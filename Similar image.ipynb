{
 "cells": [
  {
   "cell_type": "code",
   "execution_count": 1,
   "id": "1f0dea05",
   "metadata": {},
   "outputs": [
    {
     "data": {
      "text/html": [
       "<script>\n",
       "code_show=true; \n",
       "function code_toggle() {\n",
       " if (code_show){\n",
       " $('div.input').hide();\n",
       " } else {\n",
       " $('div.input').show();\n",
       " }\n",
       " code_show = !code_show\n",
       "} \n",
       "$( document ).ready(code_toggle);\n",
       "</script>\n",
       "<form action=\"javascript:code_toggle()\"><input type=\"submit\" value=\"Click here to toggle on/off the raw code.\"></form>"
      ],
      "text/plain": [
       "<IPython.core.display.HTML object>"
      ]
     },
     "execution_count": 1,
     "metadata": {},
     "output_type": "execute_result"
    }
   ],
   "source": [
    "from IPython.display import HTML\n",
    "\n",
    "HTML('''<script>\n",
    "code_show=true; \n",
    "function code_toggle() {\n",
    " if (code_show){\n",
    " $('div.input').hide();\n",
    " } else {\n",
    " $('div.input').show();\n",
    " }\n",
    " code_show = !code_show\n",
    "} \n",
    "$( document ).ready(code_toggle);\n",
    "</script>\n",
    "<form action=\"javascript:code_toggle()\"><input type=\"submit\" value=\"Click here to toggle on/off the raw code.\"></form>''')"
   ]
  },
  {
   "cell_type": "code",
   "execution_count": 2,
   "id": "214f3a0d",
   "metadata": {},
   "outputs": [],
   "source": [
    "import os\n",
    "import random\n",
    "from io import BytesIO\n",
    "import urllib\n",
    "import logging\n",
    "\n",
    "########\n",
    "import extract_image_vectors\n",
    "\n",
    "import tensorflow as tf\n",
    "\n",
    "from tensorflow.keras.preprocessing import image\n",
    "from tensorflow.keras.applications.vgg16 import preprocess_input\n",
    "import numpy as np\n",
    "import faiss\n",
    "from IPython.display import Image\n",
    "from ipywidgets import widgets\n",
    "from IPython.display import clear_output\n",
    "# Clear tensorflow warnings.\n",
    "# Note, no solutions from the following work here:\n",
    "# https://stackoverflow.com/questions/35911252/disable-tensorflow-debugging-information\n",
    "clear_output()"
   ]
  },
  {
   "cell_type": "code",
   "execution_count": 3,
   "id": "bf4f495b",
   "metadata": {},
   "outputs": [],
   "source": [
    "model = extract_image_vectors.init_model()\n",
    "# Clear tensorflow warnings.\n",
    "clear_output()"
   ]
  },
  {
   "cell_type": "code",
   "execution_count": 4,
   "id": "b6dcbc6c",
   "metadata": {},
   "outputs": [],
   "source": [
    "def is_filename_url(filename):\n",
    "    return filename.startswith('http')"
   ]
  },
  {
   "cell_type": "code",
   "execution_count": 5,
   "id": "9c72aede",
   "metadata": {},
   "outputs": [],
   "source": [
    "def predict_single_image(model, filename):\n",
    "    target_size = (224, 224)\n",
    "    #Simple hack for urls\n",
    "    if is_filename_url(filename):\n",
    "        with urllib.request.urlopen(filename) as url:\n",
    "            img = image.load_img(BytesIO(url.read()), target_size=target_size)\n",
    "    else:\n",
    "        img = image.load_img(filename, target_size=target_size)\n",
    "    x = image.img_to_array(img)\n",
    "    x = np.expand_dims(x, axis=0)\n",
    "    x = preprocess_input(x)\n",
    "\n",
    "    features = model.predict(x, verbose=0)\n",
    "    return features"
   ]
  },
  {
   "cell_type": "code",
   "execution_count": 6,
   "id": "e5b49f21",
   "metadata": {},
   "outputs": [],
   "source": [
    "def read_filename_list(filename):\n",
    "    res = []\n",
    "    with open(filename, 'r') as f:\n",
    "        for line in f:\n",
    "            res.append(line.strip('\\n'))\n",
    "    return res"
   ]
  },
  {
   "cell_type": "code",
   "execution_count": 7,
   "id": "47375585",
   "metadata": {},
   "outputs": [],
   "source": [
    "index_filename = 'ms_coco_file_list.faiss.index'\n",
    "index = faiss.read_index(index_filename)"
   ]
  },
  {
   "cell_type": "code",
   "execution_count": 8,
   "id": "221e5797",
   "metadata": {},
   "outputs": [],
   "source": [
    "fl = 'ms_coco_file_list.txt'\n",
    "filename_list = read_filename_list(fl)"
   ]
  },
  {
   "cell_type": "code",
   "execution_count": 9,
   "id": "2684c2a4",
   "metadata": {},
   "outputs": [],
   "source": [
    "pred_file = fl+'.saved_predictions.npy'\n",
    "predictions = np.load(pred_file)"
   ]
  },
  {
   "cell_type": "code",
   "execution_count": 10,
   "id": "094be82b",
   "metadata": {},
   "outputs": [],
   "source": [
    "def search_and_display_similar_images(w_output, k = 8, filename = None, pred_idx = 0):\n",
    "    images_dir = 'ms_coco/val2014'\n",
    "    if filename:\n",
    "        query_filename = filename\n",
    "    else:\n",
    "        query_filename = os.path.join(images_dir, filename_list[pred_idx])\n",
    "\n",
    "    query = predict_single_image(model, query_filename)\n",
    "    sims, ids = index.search(query, k)\n",
    "\n",
    "    output_image_width = 200\n",
    "    with w_output:\n",
    "        display(\"Input:\")\n",
    "        if is_filename_url(query_filename):\n",
    "            display(Image(url=query_filename, width=output_image_width))\n",
    "        else:\n",
    "            display('Image id: %d' % pred_idx)\n",
    "            display(Image(filename=query_filename, width=output_image_width))\n",
    "\n",
    "    i_list = []\n",
    "    res_list = []\n",
    "    images_in_row = 4\n",
    "    for i, id_i in enumerate(ids[0]):\n",
    "        i_list.append(\n",
    "            widgets.VBox([\n",
    "                widgets.Label(value=filename_list[id_i]),\n",
    "                widgets.Image(value=open(os.path.join(images_dir, filename_list[id_i]), 'rb').read(),\n",
    "                              width=output_image_width),\n",
    "                widgets.Label(value='score: %.2f' % sims[0][i]),\n",
    "            ])\n",
    "        )\n",
    "        if len(i_list) % images_in_row == 0:\n",
    "            res_list.append(widgets.HBox(i_list))\n",
    "            i_list = []\n",
    "    if i_list:\n",
    "        res_list.append(widgets.HBox(i_list))\n",
    "    with w_output:\n",
    "        display(\"Output:\")\n",
    "        display(widgets.VBox(res_list))"
   ]
  },
  {
   "cell_type": "code",
   "execution_count": 11,
   "id": "65ec048a",
   "metadata": {
    "scrolled": false
   },
   "outputs": [
    {
     "data": {
      "application/vnd.jupyter.widget-view+json": {
       "model_id": "c8942f7d9aa24c7d9b3660e8b390f91d",
       "version_major": 2,
       "version_minor": 0
      },
      "text/plain": [
       "HBox(children=(Button(description='Query random image', style=ButtonStyle()), Label(value='or enter an url:'),…"
      ]
     },
     "metadata": {},
     "output_type": "display_data"
    }
   ],
   "source": [
    "output_images = widgets.Output()\n",
    "btn = widgets.Button(description='Query random image')\n",
    "url = 'https://www.mlprague.com/image/imgproxy.php?w=360&h=480&img=https://cms.mlprague.com/upload/7abfd6f3012d8012cb94ffee6f647dd09ebee4ee.png&crop=true'\n",
    "url_box = widgets.Text(value=url, placeholder='Insert image url, press enter')\n",
    "url_btn = widgets.Button(description='Search')\n",
    "#######\n",
    "def btn_eh(obj):\n",
    "    output_images.clear_output()\n",
    "    search_and_display_similar_images(output_images, pred_idx = random.randrange(len(filename_list)))\n",
    "\n",
    "def url_box_eh(obj):\n",
    "    output_images.clear_output()\n",
    "    search_and_display_similar_images(output_images,filename=obj.value)\n",
    "\n",
    "def url_btn_eh(eh):\n",
    "    output_images.clear_output()\n",
    "    search_and_display_similar_images(output_images,filename=url_box.value)\n",
    "    \n",
    "btn.on_click(btn_eh)\n",
    "url_box.on_submit(url_box_eh)\n",
    "url_btn.on_click(url_btn_eh)\n",
    "display(widgets.HBox([btn, widgets.Label(value='or enter an url:'), url_box, url_btn]))"
   ]
  },
  {
   "cell_type": "code",
   "execution_count": 12,
   "id": "7a4134b2",
   "metadata": {},
   "outputs": [
    {
     "data": {
      "application/vnd.jupyter.widget-view+json": {
       "model_id": "6898cf0ee5154ff3b35bf54f67ae1620",
       "version_major": 2,
       "version_minor": 0
      },
      "text/plain": [
       "Output()"
      ]
     },
     "metadata": {},
     "output_type": "display_data"
    }
   ],
   "source": [
    "display(output_images)"
   ]
  },
  {
   "cell_type": "code",
   "execution_count": null,
   "id": "8caed141",
   "metadata": {},
   "outputs": [],
   "source": []
  }
 ],
 "metadata": {
  "kernelspec": {
   "display_name": "Python 3 (ipykernel)",
   "language": "python",
   "name": "python3"
  },
  "language_info": {
   "codemirror_mode": {
    "name": "ipython",
    "version": 3
   },
   "file_extension": ".py",
   "mimetype": "text/x-python",
   "name": "python",
   "nbconvert_exporter": "python",
   "pygments_lexer": "ipython3",
   "version": "3.10.4"
  }
 },
 "nbformat": 4,
 "nbformat_minor": 5
}
