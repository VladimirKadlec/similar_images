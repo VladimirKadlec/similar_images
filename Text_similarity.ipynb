{
 "cells": [
  {
   "cell_type": "code",
   "execution_count": 1,
   "id": "404fc12e",
   "metadata": {},
   "outputs": [],
   "source": [
    "# This is just a quick and hacky attempt to a text similarity.\n",
    "#\n",
    "# Requirements:\n",
    "# sentence_transformers\n",
    "# pandas"
   ]
  },
  {
   "cell_type": "code",
   "execution_count": 2,
   "id": "06807f83",
   "metadata": {},
   "outputs": [],
   "source": [
    "import torch\n",
    "torch.set_num_threads(4)\n",
    "from sentence_transformers import SentenceTransformer\n",
    "import pandas as pd\n",
    "import numpy as np\n",
    "\n",
    "model = SentenceTransformer('bert-base-nli-mean-tokens')"
   ]
  },
  {
   "cell_type": "code",
   "execution_count": 3,
   "id": "2d110a02",
   "metadata": {},
   "outputs": [],
   "source": [
    "#df = pd.read_csv('tweets/training.1600000.processed.noemoticon.csv', encoding='latin1', header=None)\n",
    "#texts = pd.read_csv('tweets/texts.csv')\n",
    "texts = pd.read_csv('tweets/texts_20k.csv')"
   ]
  },
  {
   "cell_type": "code",
   "execution_count": 4,
   "id": "aa64ec03",
   "metadata": {},
   "outputs": [],
   "source": [
    "## 2k texts take 1 minute to encode on 4/8 cores\n",
    "no_sentences = 20000\n",
    "#predictions = model.encode(texts['text'][:no_sentences])"
   ]
  },
  {
   "cell_type": "code",
   "execution_count": 5,
   "id": "7691dfc3",
   "metadata": {},
   "outputs": [],
   "source": [
    "#pred_filename = 'tweets/tweets_%d.saved_predictions.npy' % no_sentences\n",
    "##np.save(pred_filename, predictions)\n",
    "#predictions = np.load(pred_filename)"
   ]
  },
  {
   "cell_type": "code",
   "execution_count": 6,
   "id": "eef07864",
   "metadata": {},
   "outputs": [],
   "source": [
    "import faiss\n",
    "index_filename = 'tweets/tweets_%d.faiss.index' % no_sentences"
   ]
  },
  {
   "cell_type": "code",
   "execution_count": 7,
   "id": "03e9623f",
   "metadata": {},
   "outputs": [],
   "source": [
    "#dim = predictions.shape[1]\n",
    "#\n",
    "#faiss.normalize_L2(predictions)\n",
    "#\n",
    "#m = 16\n",
    "#n_bits = 8\n",
    "#\n",
    "#index = faiss.IndexPQ(dim, m, n_bits)\n",
    "#index.train(predictions)\n",
    "#index.add(predictions)\n",
    "#faiss.write_index(index, index_filename)\n",
    "#\n",
    "##index = faiss.IndexFlatIP(dim)\n",
    "##index.add(predictions)"
   ]
  },
  {
   "cell_type": "code",
   "execution_count": 8,
   "id": "f691421f",
   "metadata": {},
   "outputs": [],
   "source": [
    "index = faiss.read_index(index_filename)"
   ]
  },
  {
   "cell_type": "code",
   "execution_count": 9,
   "id": "7eb951e9",
   "metadata": {},
   "outputs": [
    {
     "name": "stdout",
     "output_type": "stream",
     "text": [
      "Need's help with this anxiety crap \n"
     ]
    }
   ],
   "source": [
    "query = texts['text'][1452]\n",
    "#query = 'Hi, How are you?'\n",
    "print(query)"
   ]
  },
  {
   "cell_type": "code",
   "execution_count": 10,
   "id": "0c8aa483",
   "metadata": {},
   "outputs": [
    {
     "name": "stdout",
     "output_type": "stream",
     "text": [
      "0. Need's help with this anxiety crap \n",
      "1. OK, I now have a question that needs to be answered...Why are dreams so hard to acheive?  x\n",
      "2. Need advice \n",
      "3. needs advice on how to use this \n",
      "4. I need My voice back... \n",
      "5. Heading to get some shut-eye...I need it \n",
      "6. needs someone to talk too \n",
      "7. need excederin \n"
     ]
    }
   ],
   "source": [
    "k = 8\n",
    "query_vec = model.encode([query])\n",
    "faiss.normalize_L2(query_vec)\n",
    "sims, ids = index.search(query_vec, k)\n",
    "for i, id_t in enumerate(ids[0]):\n",
    "    print('%d. %s' % (i, texts['text'][id_t]))"
   ]
  }
 ],
 "metadata": {
  "kernelspec": {
   "display_name": "Python 3 (ipykernel)",
   "language": "python",
   "name": "python3"
  },
  "language_info": {
   "codemirror_mode": {
    "name": "ipython",
    "version": 3
   },
   "file_extension": ".py",
   "mimetype": "text/x-python",
   "name": "python",
   "nbconvert_exporter": "python",
   "pygments_lexer": "ipython3",
   "version": "3.10.4"
  }
 },
 "nbformat": 4,
 "nbformat_minor": 5
}
